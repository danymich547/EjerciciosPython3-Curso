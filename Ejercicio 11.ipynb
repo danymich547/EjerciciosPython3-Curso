{
 "cells": [
  {
   "cell_type": "code",
   "execution_count": 1,
   "metadata": {},
   "outputs": [],
   "source": [
    "#Ejercicio 11"
   ]
  },
  {
   "cell_type": "code",
   "execution_count": 2,
   "metadata": {},
   "outputs": [],
   "source": [
    "def operacion(num1, num2, num3):\n",
    "    resultado = num1/(num2-num3)\n",
    "    return resultado\n"
   ]
  },
  {
   "cell_type": "code",
   "execution_count": 3,
   "metadata": {},
   "outputs": [],
   "source": [
    "num1 = 5\n",
    "num2 = 4 \n",
    "num3 = 3"
   ]
  },
  {
   "cell_type": "code",
   "execution_count": 4,
   "metadata": {},
   "outputs": [],
   "source": [
    "resultado = operacion(num1, num2, num3)\n"
   ]
  },
  {
   "cell_type": "code",
   "execution_count": 5,
   "metadata": {},
   "outputs": [
    {
     "data": {
      "text/plain": [
       "5.0"
      ]
     },
     "execution_count": 5,
     "metadata": {},
     "output_type": "execute_result"
    }
   ],
   "source": [
    "resultado"
   ]
  },
  {
   "cell_type": "code",
   "execution_count": 6,
   "metadata": {},
   "outputs": [
    {
     "name": "stdout",
     "output_type": "stream",
     "text": [
      "5.0\n"
     ]
    }
   ],
   "source": [
    "def operacion(num1, num2, num3):\n",
    "    resultado = num1/(num2-num3)\n",
    "    return resultado\n",
    "num1 = 5\n",
    "num2 = 4 \n",
    "num3 = 3\n",
    "try:\n",
    "    resultado = operacion(num1, num2, num3)\n",
    "    print(resultado)\n",
    "except:\n",
    "    print(\"ERROR.Los ultimos dos numeros tiene que ser diferentes\")\n"
   ]
  },
  {
   "cell_type": "code",
   "execution_count": 7,
   "metadata": {},
   "outputs": [
    {
     "name": "stdout",
     "output_type": "stream",
     "text": [
      "ERROR.Los ultimos dos numeros tiene que ser diferentes\n"
     ]
    }
   ],
   "source": [
    "def operacion(num1, num2, num3):\n",
    "    resultado = num1/(num2-num3)\n",
    "    return resultado\n",
    "num1 = 6\n",
    "num2 = 3 \n",
    "num3 = 3\n",
    "try:\n",
    "    resultado = operacion(num1, num2, num3)\n",
    "    print(resultado)\n",
    "except:\n",
    "    print(\"ERROR.Los ultimos dos numeros tiene que ser diferentes\")"
   ]
  },
  {
   "cell_type": "code",
   "execution_count": null,
   "metadata": {},
   "outputs": [],
   "source": []
  }
 ],
 "metadata": {
  "kernelspec": {
   "display_name": "Python 3",
   "language": "python",
   "name": "python3"
  },
  "language_info": {
   "codemirror_mode": {
    "name": "ipython",
    "version": 3
   },
   "file_extension": ".py",
   "mimetype": "text/x-python",
   "name": "python",
   "nbconvert_exporter": "python",
   "pygments_lexer": "ipython3",
   "version": "3.7.6"
  }
 },
 "nbformat": 4,
 "nbformat_minor": 4
}
